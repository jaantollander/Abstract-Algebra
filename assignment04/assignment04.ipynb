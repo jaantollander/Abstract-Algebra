{
 "cells": [
  {
   "cell_type": "markdown",
   "metadata": {},
   "source": [
    "# Assignment 3"
   ]
  },
  {
   "cell_type": "code",
   "execution_count": 2,
   "metadata": {},
   "outputs": [],
   "source": [
    "from sympy import *"
   ]
  },
  {
   "cell_type": "code",
   "execution_count": 3,
   "metadata": {},
   "outputs": [],
   "source": [
    "init_printing(\"mathjax\")"
   ]
  },
  {
   "cell_type": "markdown",
   "metadata": {},
   "source": [
    "## Problem 5"
   ]
  },
  {
   "cell_type": "code",
   "execution_count": 4,
   "metadata": {},
   "outputs": [],
   "source": [
    "rho, sigma = symbols(\"varrho,sigma\", commutative=False)"
   ]
  },
  {
   "cell_type": "code",
   "execution_count": 5,
   "metadata": {},
   "outputs": [
    {
     "data": {
      "image/png": "[encoded data removed]",
      "text/latex": [
       "$$\\left ( \\varrho, \\quad \\sigma\\right )$$"
      ],
      "text/plain": [
       "(varrho, σ)"
      ]
     },
     "execution_count": 5,
     "metadata": {},
     "output_type": "execute_result"
    }
   ],
   "source": [
    "rho, sigma"
   ]
  },
  {
   "cell_type": "markdown",
   "metadata": {},
   "source": [
    "### (a)"
   ]
  },
  {
   "cell_type": "code",
   "execution_count": 6,
   "metadata": {},
   "outputs": [
    {
     "data": {
      "image/png": "[encoded data removed]",
      "text/latex": [
       "$$\\left [ 1, \\quad \\varrho, \\quad \\varrho^{2}, \\quad \\varrho^{3}, \\quad \\sigma, \\quad \\varrho \\sigma, \\quad \\varrho^{2} \\sigma, \\quad \\varrho^{3} \\sigma\\right ]$$"
      ],
      "text/plain": [
       "⎡                 2        3                     2          3  ⎤\n",
       "⎣1, varrho, varrho , varrho , σ, varrho⋅σ, varrho ⋅σ, varrho ⋅σ⎦"
      ]
     },
     "execution_count": 6,
     "metadata": {},
     "output_type": "execute_result"
    }
   ],
   "source": [
    "D8 = [1, rho, rho**2, rho**3, sigma, rho*sigma, rho**2*sigma, rho**3*sigma]\n",
    "D8"
   ]
  },
  {
   "cell_type": "code",
   "execution_count": 7,
   "metadata": {},
   "outputs": [],
   "source": [
    "table = Matrix([[d1*d2 for d2 in D8] for d1 in D8])"
   ]
  },
  {
   "cell_type": "code",
   "execution_count": 8,
   "metadata": {},
   "outputs": [
    {
     "data": {
      "image/png": "[encoded data removed]",
      "text/latex": [
       "$$\\left[\\begin{matrix}1 & \\varrho & \\varrho^{2} & \\varrho^{3} & \\sigma & \\varrho \\sigma & \\varrho^{2} \\sigma & \\varrho^{3} \\sigma\\\\\\varrho & \\varrho^{2} & \\varrho^{3} & \\varrho^{4} & \\varrho \\sigma & \\varrho^{2} \\sigma & \\varrho^{3} \\sigma & \\varrho^{4} \\sigma\\\\\\varrho^{2} & \\varrho^{3} & \\varrho^{4} & \\varrho^{5} & \\varrho^{2} \\sigma & \\varrho^{3} \\sigma & \\varrho^{4} \\sigma & \\varrho^{5} \\sigma\\\\\\varrho^{3} & \\varrho^{4} & \\varrho^{5} & \\varrho^{6} & \\varrho^{3} \\sigma & \\varrho^{4} \\sigma & \\varrho^{5} \\sigma & \\varrho^{6} \\sigma\\\\\\sigma & \\sigma \\varrho & \\sigma \\varrho^{2} & \\sigma \\varrho^{3} & \\sigma^{2} & \\sigma \\varrho \\sigma & \\sigma \\varrho^{2} \\sigma & \\sigma \\varrho^{3} \\sigma\\\\\\varrho \\sigma & \\varrho \\sigma \\varrho & \\varrho \\sigma \\varrho^{2} & \\varrho \\sigma \\varrho^{3} & \\varrho \\sigma^{2} & \\varrho \\sigma \\varrho \\sigma & \\varrho \\sigma \\varrho^{2} \\sigma & \\varrho \\sigma \\varrho^{3} \\sigma\\\\\\varrho^{2} \\sigma & \\varrho^{2} \\sigma \\varrho & \\varrho^{2} \\sigma \\varrho^{2} & \\varrho^{2} \\sigma \\varrho^{3} & \\varrho^{2} \\sigma^{2} & \\varrho^{2} \\sigma \\varrho \\sigma & \\varrho^{2} \\sigma \\varrho^{2} \\sigma & \\varrho^{2} \\sigma \\varrho^{3} \\sigma\\\\\\varrho^{3} \\sigma & \\varrho^{3} \\sigma \\varrho & \\varrho^{3} \\sigma \\varrho^{2} & \\varrho^{3} \\sigma \\varrho^{3} & \\varrho^{3} \\sigma^{2} & \\varrho^{3} \\sigma \\varrho \\sigma & \\varrho^{3} \\sigma \\varrho^{2} \\sigma & \\varrho^{3} \\sigma \\varrho^{3} \\sigma\\end{matrix}\\right]$$"
      ],
      "text/plain": [
       "⎡                                        2                  3                 \n",
       "⎢    1           varrho            varrho             varrho            σ     \n",
       "⎢                                                                             \n",
       "⎢                     2                  3                  4                 \n",
       "⎢ varrho        varrho             varrho             varrho         varrho⋅σ \n",
       "⎢                                                                             \n",
       "⎢       2             3                  4                  5             2   \n",
       "⎢ varrho        varrho             varrho             varrho        varrho ⋅σ \n",
       "⎢                                                                             \n",
       "⎢       3             4                  5                  6             3   \n",
       "⎢ varrho        varrho             varrho             varrho        varrho ⋅σ \n",
       "⎢                                                                             \n",
       "⎢                                         2                  3           2    \n",
       "⎢    σ          σ⋅varrho          σ⋅varrho           σ⋅varrho           σ     \n",
       "⎢                                                                             \n",
       "⎢                                            2                  3           2 \n",
       "⎢varrho⋅σ   varrho⋅σ⋅varrho   varrho⋅σ⋅varrho    varrho⋅σ⋅varrho    varrho⋅σ  \n",
       "⎢                                                                             \n",
       "⎢      2          2                 2         2        2         3        2  2\n",
       "⎢varrho ⋅σ  varrho ⋅σ⋅varrho  varrho ⋅σ⋅varrho   varrho ⋅σ⋅varrho   varrho ⋅σ \n",
       "⎢                                                                             \n",
       "⎢      3          3                 3         2        3         3        3  2\n",
       "⎣varrho ⋅σ  varrho ⋅σ⋅varrho  varrho ⋅σ⋅varrho   varrho ⋅σ⋅varrho   varrho ⋅σ \n",
       "\n",
       "                                 2                    3       ⎤\n",
       "       varrho⋅σ            varrho ⋅σ            varrho ⋅σ     ⎥\n",
       "                                                              ⎥\n",
       "            2                    3                    4       ⎥\n",
       "      varrho ⋅σ            varrho ⋅σ            varrho ⋅σ     ⎥\n",
       "                                                              ⎥\n",
       "            3                    4                    5       ⎥\n",
       "      varrho ⋅σ            varrho ⋅σ            varrho ⋅σ     ⎥\n",
       "                                                              ⎥\n",
       "            4                    5                    6       ⎥\n",
       "      varrho ⋅σ            varrho ⋅σ            varrho ⋅σ     ⎥\n",
       "                                                              ⎥\n",
       "                                  2                    3      ⎥\n",
       "      σ⋅varrho⋅σ          σ⋅varrho ⋅σ          σ⋅varrho ⋅σ    ⎥\n",
       "                                                              ⎥\n",
       "                                     2                    3   ⎥\n",
       "  varrho⋅σ⋅varrho⋅σ   varrho⋅σ⋅varrho ⋅σ   varrho⋅σ⋅varrho ⋅σ ⎥\n",
       "                                                              ⎥\n",
       "        2                   2         2          2         3  ⎥\n",
       "  varrho ⋅σ⋅varrho⋅σ  varrho ⋅σ⋅varrho ⋅σ  varrho ⋅σ⋅varrho ⋅σ⎥\n",
       "                                                              ⎥\n",
       "        3                   3         2          3         3  ⎥\n",
       "  varrho ⋅σ⋅varrho⋅σ  varrho ⋅σ⋅varrho ⋅σ  varrho ⋅σ⋅varrho ⋅σ⎦"
      ]
     },
     "execution_count": 8,
     "metadata": {},
     "output_type": "execute_result"
    }
   ],
   "source": [
    "table"
   ]
  },
  {
   "cell_type": "code",
   "execution_count": 9,
   "metadata": {},
   "outputs": [],
   "source": [
    "substitutions = [\n",
    "    (rho**4, 1),\n",
    "    (sigma**2, 1),\n",
    "    (sigma*rho, rho**3*sigma),\n",
    "    (sigma*rho**3, rho*sigma),\n",
    "    (rho*sigma*rho, sigma),\n",
    "    (sigma*rho*sigma, rho**3),\n",
    "    (sigma*rho**2*sigma, rho**2),\n",
    "    (sigma*rho**2, rho**2*sigma)   \n",
    "]"
   ]
  },
  {
   "cell_type": "code",
   "execution_count": 10,
   "metadata": {},
   "outputs": [
    {
     "data": {
      "image/png": "[encoded data removed]",
      "text/latex": [
       "$$\\left [ \\left ( \\varrho^{4}, \\quad 1\\right ), \\quad \\left ( \\sigma^{2}, \\quad 1\\right ), \\quad \\left ( \\sigma \\varrho, \\quad \\varrho^{3} \\sigma\\right ), \\quad \\left ( \\sigma \\varrho^{3}, \\quad \\varrho \\sigma\\right ), \\quad \\left ( \\varrho \\sigma \\varrho, \\quad \\sigma\\right ), \\quad \\left ( \\sigma \\varrho \\sigma, \\quad \\varrho^{3}\\right ), \\quad \\left ( \\sigma \\varrho^{2} \\sigma, \\quad \\varrho^{2}\\right ), \\quad \\left ( \\sigma \\varrho^{2}, \\quad \\varrho^{2} \\sigma\\right )\\right ]$$"
      ],
      "text/plain": [
       "⎡⎛      4   ⎞  ⎛ 2   ⎞  ⎛                3  ⎞  ⎛        3          ⎞          \n",
       "⎣⎝varrho , 1⎠, ⎝σ , 1⎠, ⎝σ⋅varrho, varrho ⋅σ⎠, ⎝σ⋅varrho , varrho⋅σ⎠, (varrho⋅\n",
       "\n",
       "              ⎛                  3⎞  ⎛        2          2⎞  ⎛        2       \n",
       "σ⋅varrho, σ), ⎝σ⋅varrho⋅σ, varrho ⎠, ⎝σ⋅varrho ⋅σ, varrho ⎠, ⎝σ⋅varrho , varrh\n",
       "\n",
       " 2  ⎞⎤\n",
       "o ⋅σ⎠⎦"
      ]
     },
     "execution_count": 10,
     "metadata": {},
     "output_type": "execute_result"
    }
   ],
   "source": [
    "substitutions"
   ]
  },
  {
   "cell_type": "code",
   "execution_count": 11,
   "metadata": {},
   "outputs": [],
   "source": [
    "for _ in range(3):\n",
    "    table = table.subs(substitutions)"
   ]
  },
  {
   "cell_type": "code",
   "execution_count": 12,
   "metadata": {},
   "outputs": [
    {
     "data": {
      "image/png": "[encoded data removed]",
      "text/latex": [
       "$$\\left[\\begin{matrix}1 & \\varrho & \\varrho^{2} & \\varrho^{3} & \\sigma & \\varrho \\sigma & \\varrho^{2} \\sigma & \\varrho^{3} \\sigma\\\\\\varrho & \\varrho^{2} & \\varrho^{3} & 1 & \\varrho \\sigma & \\varrho^{2} \\sigma & \\varrho^{3} \\sigma & \\sigma\\\\\\varrho^{2} & \\varrho^{3} & 1 & \\varrho & \\varrho^{2} \\sigma & \\varrho^{3} \\sigma & \\sigma & \\varrho \\sigma\\\\\\varrho^{3} & 1 & \\varrho & \\varrho^{2} & \\varrho^{3} \\sigma & \\sigma & \\varrho \\sigma & \\varrho^{2} \\sigma\\\\\\sigma & \\varrho^{3} \\sigma & \\varrho^{2} \\sigma & \\varrho \\sigma & 1 & \\varrho^{3} & \\varrho^{2} & \\varrho\\\\\\varrho \\sigma & \\sigma & \\varrho^{3} \\sigma & \\varrho^{2} \\sigma & \\varrho & 1 & \\varrho^{3} & \\varrho^{2}\\\\\\varrho^{2} \\sigma & \\varrho \\sigma & \\sigma & \\varrho^{3} \\sigma & \\varrho^{2} & \\varrho & 1 & \\varrho^{3}\\\\\\varrho^{3} \\sigma & \\varrho^{2} \\sigma & \\varrho \\sigma & \\sigma & \\varrho^{3} & \\varrho^{2} & \\varrho & 1\\end{matrix}\\right]$$"
      ],
      "text/plain": [
       "⎡                             2          3                               2    \n",
       "⎢    1       varrho     varrho     varrho        σ      varrho⋅σ   varrho ⋅σ  \n",
       "⎢                                                                             \n",
       "⎢                  2          3                               2          3    \n",
       "⎢ varrho     varrho     varrho        1      varrho⋅σ   varrho ⋅σ  varrho ⋅σ  \n",
       "⎢                                                                             \n",
       "⎢       2          3                               2          3               \n",
       "⎢ varrho     varrho        1       varrho    varrho ⋅σ  varrho ⋅σ      σ      \n",
       "⎢                                                                             \n",
       "⎢       3                                2         3                          \n",
       "⎢ varrho        1       varrho     varrho    varrho ⋅σ      σ      varrho⋅σ   \n",
       "⎢                                                                             \n",
       "⎢                 3          2                                 3          2   \n",
       "⎢    σ      varrho ⋅σ  varrho ⋅σ  varrho⋅σ       1       varrho     varrho    \n",
       "⎢                                                                             \n",
       "⎢                            3          2                                 3   \n",
       "⎢varrho⋅σ       σ      varrho ⋅σ  varrho ⋅σ   varrho        1       varrho    \n",
       "⎢                                                                             \n",
       "⎢      2                                3           2                         \n",
       "⎢varrho ⋅σ  varrho⋅σ       σ      varrho ⋅σ   varrho     varrho        1      \n",
       "⎢                                                                             \n",
       "⎢      3          2                                 3          2              \n",
       "⎣varrho ⋅σ  varrho ⋅σ  varrho⋅σ       σ       varrho     varrho     varrho    \n",
       "\n",
       "      3  ⎤\n",
       "varrho ⋅σ⎥\n",
       "         ⎥\n",
       "         ⎥\n",
       "    σ    ⎥\n",
       "         ⎥\n",
       "         ⎥\n",
       "varrho⋅σ ⎥\n",
       "         ⎥\n",
       "      2  ⎥\n",
       "varrho ⋅σ⎥\n",
       "         ⎥\n",
       "         ⎥\n",
       " varrho  ⎥\n",
       "         ⎥\n",
       "       2 ⎥\n",
       " varrho  ⎥\n",
       "         ⎥\n",
       "       3 ⎥\n",
       " varrho  ⎥\n",
       "         ⎥\n",
       "         ⎥\n",
       "    1    ⎦"
      ]
     },
     "execution_count": 12,
     "metadata": {},
     "output_type": "execute_result"
    }
   ],
   "source": [
    "table"
   ]
  },
  {
   "cell_type": "markdown",
   "metadata": {},
   "source": [
    "### (b)"
   ]
  },
  {
   "cell_type": "code",
   "execution_count": 62,
   "metadata": {},
   "outputs": [],
   "source": [
    "H = [1, rho, rho**2, rho**3]"
   ]
  },
  {
   "cell_type": "code",
   "execution_count": 63,
   "metadata": {},
   "outputs": [],
   "source": [
    "xHx = Matrix([[x*h*x**Integer(-1) for h in H] for x in D8])"
   ]
  },
  {
   "cell_type": "code",
   "execution_count": 64,
   "metadata": {},
   "outputs": [
    {
     "data": {
      "image/png": "[encoded data removed]",
      "text/latex": [
       "$$\\left[\\begin{matrix}1 & \\varrho & \\varrho^{2} & \\varrho^{3}\\\\1 & \\varrho & \\varrho^{2} & \\varrho^{3}\\\\1 & \\varrho & \\varrho^{2} & \\varrho^{3}\\\\1 & \\varrho & \\varrho^{2} & \\varrho^{3}\\\\1 & \\sigma \\varrho \\sigma^{-1} & \\sigma \\varrho^{2} \\sigma^{-1} & \\sigma \\varrho^{3} \\sigma^{-1}\\\\\\varrho \\sigma \\left(\\varrho \\sigma\\right)^{-1} & \\varrho \\sigma \\varrho \\left(\\varrho \\sigma\\right)^{-1} & \\varrho \\sigma \\varrho^{2} \\left(\\varrho \\sigma\\right)^{-1} & \\varrho \\sigma \\varrho^{3} \\left(\\varrho \\sigma\\right)^{-1}\\\\\\varrho^{2} \\sigma \\left(\\varrho^{2} \\sigma\\right)^{-1} & \\varrho^{2} \\sigma \\varrho \\left(\\varrho^{2} \\sigma\\right)^{-1} & \\varrho^{2} \\sigma \\varrho^{2} \\left(\\varrho^{2} \\sigma\\right)^{-1} & \\varrho^{2} \\sigma \\varrho^{3} \\left(\\varrho^{2} \\sigma\\right)^{-1}\\\\\\varrho^{3} \\sigma \\left(\\varrho^{3} \\sigma\\right)^{-1} & \\varrho^{3} \\sigma \\varrho \\left(\\varrho^{3} \\sigma\\right)^{-1} & \\varrho^{3} \\sigma \\varrho^{2} \\left(\\varrho^{3} \\sigma\\right)^{-1} & \\varrho^{3} \\sigma \\varrho^{3} \\left(\\varrho^{3} \\sigma\\right)^{-1}\\end{matrix}\\right]$$"
      ],
      "text/plain": [
       "⎡                                                                           2 \n",
       "⎢           1                         varrho                          varrho  \n",
       "⎢                                                                             \n",
       "⎢                                                                           2 \n",
       "⎢           1                         varrho                          varrho  \n",
       "⎢                                                                             \n",
       "⎢                                                                           2 \n",
       "⎢           1                         varrho                          varrho  \n",
       "⎢                                                                             \n",
       "⎢                                                                           2 \n",
       "⎢           1                         varrho                          varrho  \n",
       "⎢                                                                             \n",
       "⎢                                            -1                            2  \n",
       "⎢           1                      σ⋅varrho⋅σ                      σ⋅varrho ⋅σ\n",
       "⎢                                                                             \n",
       "⎢                    -1                              -1                   2   \n",
       "⎢ varrho⋅σ⋅(varrho⋅σ)      varrho⋅σ⋅varrho⋅(varrho⋅σ)      varrho⋅σ⋅varrho ⋅(v\n",
       "⎢                                                                             \n",
       "⎢                     -1                              -1                      \n",
       "⎢      2   ⎛      2  ⎞          2          ⎛      2  ⎞          2         2 ⎛ \n",
       "⎢varrho ⋅σ⋅⎝varrho ⋅σ⎠    varrho ⋅σ⋅varrho⋅⎝varrho ⋅σ⎠    varrho ⋅σ⋅varrho ⋅⎝v\n",
       "⎢                                                                             \n",
       "⎢                     -1                              -1                      \n",
       "⎢      3   ⎛      3  ⎞          3          ⎛      3  ⎞          3         2 ⎛ \n",
       "⎣varrho ⋅σ⋅⎝varrho ⋅σ⎠    varrho ⋅σ⋅varrho⋅⎝varrho ⋅σ⎠    varrho ⋅σ⋅varrho ⋅⎝v\n",
       "\n",
       "                               3            ⎤\n",
       "                         varrho             ⎥\n",
       "                                            ⎥\n",
       "                               3            ⎥\n",
       "                         varrho             ⎥\n",
       "                                            ⎥\n",
       "                               3            ⎥\n",
       "                         varrho             ⎥\n",
       "                                            ⎥\n",
       "                               3            ⎥\n",
       "                         varrho             ⎥\n",
       "                                            ⎥\n",
       "-1                            3  -1         ⎥\n",
       "                      σ⋅varrho ⋅σ           ⎥\n",
       "                                            ⎥\n",
       "        -1                   3           -1 ⎥\n",
       "arrho⋅σ)      varrho⋅σ⋅varrho ⋅(varrho⋅σ)   ⎥\n",
       "                                            ⎥\n",
       "         -1                               -1⎥\n",
       "     2  ⎞          2         3 ⎛      2  ⎞  ⎥\n",
       "arrho ⋅σ⎠    varrho ⋅σ⋅varrho ⋅⎝varrho ⋅σ⎠  ⎥\n",
       "                                            ⎥\n",
       "         -1                               -1⎥\n",
       "     3  ⎞          3         3 ⎛      3  ⎞  ⎥\n",
       "arrho ⋅σ⎠    varrho ⋅σ⋅varrho ⋅⎝varrho ⋅σ⎠  ⎦"
      ]
     },
     "execution_count": 64,
     "metadata": {},
     "output_type": "execute_result"
    }
   ],
   "source": [
    "xHx"
   ]
  },
  {
   "cell_type": "code",
   "execution_count": 65,
   "metadata": {},
   "outputs": [],
   "source": [
    "inverses = [\n",
    "    (sigma**(-1), sigma), \n",
    "    ((rho*sigma)**(-1), rho*sigma), \n",
    "    ((rho**2*sigma)**(-1), rho**2*sigma),\n",
    "    ((rho**3*sigma)**(-1),rho**3*sigma)\n",
    "]"
   ]
  },
  {
   "cell_type": "code",
   "execution_count": 66,
   "metadata": {},
   "outputs": [
    {
     "data": {
      "image/png": "[encoded data removed]",
      "text/latex": [
       "$$\\left [ \\sigma^{-1} = \\sigma, \\quad \\left(\\varrho \\sigma\\right)^{-1} = \\varrho \\sigma, \\quad \\left(\\varrho^{2} \\sigma\\right)^{-1} = \\varrho^{2} \\sigma, \\quad \\left(\\varrho^{3} \\sigma\\right)^{-1} = \\varrho^{3} \\sigma\\right ]$$"
      ],
      "text/plain": [
       "⎡                                             -1                         -1   \n",
       "⎢ -1                -1             ⎛      2  ⎞           2    ⎛      3  ⎞     \n",
       "⎣σ   = σ, (varrho⋅σ)   = varrho⋅σ, ⎝varrho ⋅σ⎠   = varrho ⋅σ, ⎝varrho ⋅σ⎠   = \n",
       "\n",
       "         ⎤\n",
       "      3  ⎥\n",
       "varrho ⋅σ⎦"
      ]
     },
     "execution_count": 66,
     "metadata": {},
     "output_type": "execute_result"
    }
   ],
   "source": [
    "list(Eq(*inv) for inv in inverses)"
   ]
  },
  {
   "cell_type": "code",
   "execution_count": 67,
   "metadata": {},
   "outputs": [],
   "source": [
    "m2 = xHx.subs(inverses)"
   ]
  },
  {
   "cell_type": "code",
   "execution_count": 68,
   "metadata": {},
   "outputs": [
    {
     "data": {
      "image/png": "[encoded data removed]",
      "text/latex": [
       "$$\\left[\\begin{matrix}1 & \\varrho & \\varrho^{2} & \\varrho^{3}\\\\1 & \\varrho & \\varrho^{2} & \\varrho^{3}\\\\1 & \\varrho & \\varrho^{2} & \\varrho^{3}\\\\1 & \\varrho & \\varrho^{2} & \\varrho^{3}\\\\1 & \\sigma \\varrho \\sigma & \\sigma \\varrho^{2} \\sigma & \\sigma \\varrho^{3} \\sigma\\\\\\varrho \\sigma \\varrho \\sigma & \\varrho \\sigma \\varrho^{2} \\sigma & \\varrho \\sigma \\varrho^{3} \\sigma & \\varrho \\sigma \\varrho^{4} \\sigma\\\\\\varrho^{2} \\sigma \\varrho^{2} \\sigma & \\varrho^{2} \\sigma \\varrho^{3} \\sigma & \\varrho^{2} \\sigma \\varrho^{4} \\sigma & \\varrho^{2} \\sigma \\varrho^{5} \\sigma\\\\\\varrho^{3} \\sigma \\varrho^{3} \\sigma & \\varrho^{3} \\sigma \\varrho^{4} \\sigma & \\varrho^{3} \\sigma \\varrho^{5} \\sigma & \\varrho^{3} \\sigma \\varrho^{6} \\sigma\\end{matrix}\\right]$$"
      ],
      "text/plain": [
       "⎡                                                      2                    3 \n",
       "⎢         1                 varrho               varrho               varrho  \n",
       "⎢                                                                             \n",
       "⎢                                                      2                    3 \n",
       "⎢         1                 varrho               varrho               varrho  \n",
       "⎢                                                                             \n",
       "⎢                                                      2                    3 \n",
       "⎢         1                 varrho               varrho               varrho  \n",
       "⎢                                                                             \n",
       "⎢                                                      2                    3 \n",
       "⎢         1                 varrho               varrho               varrho  \n",
       "⎢                                                                             \n",
       "⎢                                                      2                    3 \n",
       "⎢         1               σ⋅varrho⋅σ           σ⋅varrho ⋅σ          σ⋅varrho ⋅\n",
       "⎢                                                                             \n",
       "⎢                                    2                    3                   \n",
       "⎢ varrho⋅σ⋅varrho⋅σ   varrho⋅σ⋅varrho ⋅σ   varrho⋅σ⋅varrho ⋅σ   varrho⋅σ⋅varrh\n",
       "⎢                                                                             \n",
       "⎢      2         2          2         3          2         4          2       \n",
       "⎢varrho ⋅σ⋅varrho ⋅σ  varrho ⋅σ⋅varrho ⋅σ  varrho ⋅σ⋅varrho ⋅σ  varrho ⋅σ⋅varr\n",
       "⎢                                                                             \n",
       "⎢      3         3          3         4          3         5          3       \n",
       "⎣varrho ⋅σ⋅varrho ⋅σ  varrho ⋅σ⋅varrho ⋅σ  varrho ⋅σ⋅varrho ⋅σ  varrho ⋅σ⋅varr\n",
       "\n",
       "     ⎤\n",
       "     ⎥\n",
       "     ⎥\n",
       "     ⎥\n",
       "     ⎥\n",
       "     ⎥\n",
       "     ⎥\n",
       "     ⎥\n",
       "     ⎥\n",
       "     ⎥\n",
       "     ⎥\n",
       "     ⎥\n",
       "     ⎥\n",
       "σ    ⎥\n",
       "     ⎥\n",
       " 4   ⎥\n",
       "o ⋅σ ⎥\n",
       "     ⎥\n",
       "  5  ⎥\n",
       "ho ⋅σ⎥\n",
       "     ⎥\n",
       "  6  ⎥\n",
       "ho ⋅σ⎦"
      ]
     },
     "execution_count": 68,
     "metadata": {},
     "output_type": "execute_result"
    }
   ],
   "source": [
    "m2"
   ]
  },
  {
   "cell_type": "code",
   "execution_count": 70,
   "metadata": {},
   "outputs": [],
   "source": [
    "for _ in range(3):\n",
    "    m2 = m2.subs(rho**4, 1)\n",
    "    m2 = m2.subs(sigma**2, 1)\n",
    "    m2 = m2.subs(sigma*rho*sigma, rho**3)\n",
    "    m2 = m2.subs(sigma*rho**2*sigma, rho**2)\n",
    "    m2 = m2.subs(sigma*rho**3*sigma, rho)"
   ]
  },
  {
   "cell_type": "code",
   "execution_count": 71,
   "metadata": {},
   "outputs": [
    {
     "data": {
      "image/png": "[encoded data removed]",
      "text/latex": [
       "$$\\left[\\begin{matrix}1 & \\varrho & \\varrho^{2} & \\varrho^{3}\\\\1 & \\varrho & \\varrho^{2} & \\varrho^{3}\\\\1 & \\varrho & \\varrho^{2} & \\varrho^{3}\\\\1 & \\varrho & \\varrho^{2} & \\varrho^{3}\\\\1 & \\varrho^{3} & \\varrho^{2} & \\varrho\\\\1 & \\varrho^{3} & \\varrho^{2} & \\varrho\\\\1 & \\varrho^{3} & \\varrho^{2} & \\varrho\\\\1 & \\varrho^{3} & \\varrho^{2} & \\varrho\\end{matrix}\\right]$$"
      ],
      "text/plain": [
       "⎡                  2        3⎤\n",
       "⎢1  varrho   varrho   varrho ⎥\n",
       "⎢                            ⎥\n",
       "⎢                  2        3⎥\n",
       "⎢1  varrho   varrho   varrho ⎥\n",
       "⎢                            ⎥\n",
       "⎢                  2        3⎥\n",
       "⎢1  varrho   varrho   varrho ⎥\n",
       "⎢                            ⎥\n",
       "⎢                  2        3⎥\n",
       "⎢1  varrho   varrho   varrho ⎥\n",
       "⎢                            ⎥\n",
       "⎢         3        2         ⎥\n",
       "⎢1  varrho   varrho   varrho ⎥\n",
       "⎢                            ⎥\n",
       "⎢         3        2         ⎥\n",
       "⎢1  varrho   varrho   varrho ⎥\n",
       "⎢                            ⎥\n",
       "⎢         3        2         ⎥\n",
       "⎢1  varrho   varrho   varrho ⎥\n",
       "⎢                            ⎥\n",
       "⎢         3        2         ⎥\n",
       "⎣1  varrho   varrho   varrho ⎦"
      ]
     },
     "execution_count": 71,
     "metadata": {},
     "output_type": "execute_result"
    }
   ],
   "source": [
    "m2"
   ]
  },
  {
   "cell_type": "markdown",
   "metadata": {},
   "source": [
    "### (c)"
   ]
  },
  {
   "cell_type": "code",
   "execution_count": 50,
   "metadata": {},
   "outputs": [],
   "source": [
    "K = [1, rho**2]"
   ]
  },
  {
   "cell_type": "code",
   "execution_count": 51,
   "metadata": {},
   "outputs": [
    {
     "data": {
      "image/png": "[encoded data removed]",
      "text/latex": [
       "$$\\left [ 1, \\quad \\varrho^{2}\\right ]$$"
      ],
      "text/plain": [
       "⎡         2⎤\n",
       "⎣1, varrho ⎦"
      ]
     },
     "execution_count": 51,
     "metadata": {},
     "output_type": "execute_result"
    }
   ],
   "source": [
    "K"
   ]
  },
  {
   "cell_type": "code",
   "execution_count": 52,
   "metadata": {},
   "outputs": [],
   "source": [
    "xKx = Matrix([[x*k*x**Integer(-1) for k in K] for x in D8])"
   ]
  },
  {
   "cell_type": "code",
   "execution_count": 53,
   "metadata": {},
   "outputs": [
    {
     "data": {
      "image/png": "[encoded data removed]",
      "text/latex": [
       "$$\\left[\\begin{matrix}1 & \\varrho^{2}\\\\1 & \\varrho^{2}\\\\1 & \\varrho^{2}\\\\1 & \\varrho^{2}\\\\1 & \\sigma \\varrho^{2} \\sigma^{-1}\\\\\\varrho \\sigma \\left(\\varrho \\sigma\\right)^{-1} & \\varrho \\sigma \\varrho^{2} \\left(\\varrho \\sigma\\right)^{-1}\\\\\\varrho^{2} \\sigma \\left(\\varrho^{2} \\sigma\\right)^{-1} & \\varrho^{2} \\sigma \\varrho^{2} \\left(\\varrho^{2} \\sigma\\right)^{-1}\\\\\\varrho^{3} \\sigma \\left(\\varrho^{3} \\sigma\\right)^{-1} & \\varrho^{3} \\sigma \\varrho^{2} \\left(\\varrho^{3} \\sigma\\right)^{-1}\\end{matrix}\\right]$$"
      ],
      "text/plain": [
       "⎡                                           2            ⎤\n",
       "⎢           1                         varrho             ⎥\n",
       "⎢                                                        ⎥\n",
       "⎢                                           2            ⎥\n",
       "⎢           1                         varrho             ⎥\n",
       "⎢                                                        ⎥\n",
       "⎢                                           2            ⎥\n",
       "⎢           1                         varrho             ⎥\n",
       "⎢                                                        ⎥\n",
       "⎢                                           2            ⎥\n",
       "⎢           1                         varrho             ⎥\n",
       "⎢                                                        ⎥\n",
       "⎢                                          2  -1         ⎥\n",
       "⎢           1                      σ⋅varrho ⋅σ           ⎥\n",
       "⎢                                                        ⎥\n",
       "⎢                    -1                   2           -1 ⎥\n",
       "⎢ varrho⋅σ⋅(varrho⋅σ)      varrho⋅σ⋅varrho ⋅(varrho⋅σ)   ⎥\n",
       "⎢                                                        ⎥\n",
       "⎢                     -1                               -1⎥\n",
       "⎢      2   ⎛      2  ⎞          2         2 ⎛      2  ⎞  ⎥\n",
       "⎢varrho ⋅σ⋅⎝varrho ⋅σ⎠    varrho ⋅σ⋅varrho ⋅⎝varrho ⋅σ⎠  ⎥\n",
       "⎢                                                        ⎥\n",
       "⎢                     -1                               -1⎥\n",
       "⎢      3   ⎛      3  ⎞          3         2 ⎛      3  ⎞  ⎥\n",
       "⎣varrho ⋅σ⋅⎝varrho ⋅σ⎠    varrho ⋅σ⋅varrho ⋅⎝varrho ⋅σ⎠  ⎦"
      ]
     },
     "execution_count": 53,
     "metadata": {},
     "output_type": "execute_result"
    }
   ],
   "source": [
    "xKx"
   ]
  },
  {
   "cell_type": "code",
   "execution_count": 54,
   "metadata": {},
   "outputs": [],
   "source": [
    "m2 = xKx.subs(inverses)"
   ]
  },
  {
   "cell_type": "code",
   "execution_count": 59,
   "metadata": {},
   "outputs": [
    {
     "data": {
      "image/png": "[encoded data removed]",
      "text/latex": [
       "$$\\left[\\begin{matrix}1 & \\varrho^{2}\\\\1 & \\varrho^{2}\\\\1 & \\varrho^{2}\\\\1 & \\varrho^{2}\\\\1 & \\varrho^{2}\\\\1 & \\varrho^{2}\\\\1 & \\varrho^{2}\\\\1 & \\varrho^{2}\\end{matrix}\\right]$$"
      ],
      "text/plain": [
       "⎡         2⎤\n",
       "⎢1  varrho ⎥\n",
       "⎢          ⎥\n",
       "⎢         2⎥\n",
       "⎢1  varrho ⎥\n",
       "⎢          ⎥\n",
       "⎢         2⎥\n",
       "⎢1  varrho ⎥\n",
       "⎢          ⎥\n",
       "⎢         2⎥\n",
       "⎢1  varrho ⎥\n",
       "⎢          ⎥\n",
       "⎢         2⎥\n",
       "⎢1  varrho ⎥\n",
       "⎢          ⎥\n",
       "⎢         2⎥\n",
       "⎢1  varrho ⎥\n",
       "⎢          ⎥\n",
       "⎢         2⎥\n",
       "⎢1  varrho ⎥\n",
       "⎢          ⎥\n",
       "⎢         2⎥\n",
       "⎣1  varrho ⎦"
      ]
     },
     "execution_count": 59,
     "metadata": {},
     "output_type": "execute_result"
    }
   ],
   "source": [
    "m2 "
   ]
  },
  {
   "cell_type": "code",
   "execution_count": 60,
   "metadata": {},
   "outputs": [],
   "source": [
    "for _ in range(3):\n",
    "    m2 = m2.subs(rho**4, 1)\n",
    "    m2 = m2.subs(sigma**2, 1)\n",
    "    m2 = m2.subs(sigma*rho*sigma, rho**3)\n",
    "    m2 = m2.subs(sigma*rho**2*sigma, rho**2)\n",
    "    m2 = m2.subs(sigma*rho**3*sigma, rho)"
   ]
  },
  {
   "cell_type": "code",
   "execution_count": 61,
   "metadata": {},
   "outputs": [
    {
     "data": {
      "image/png": "[encoded data removed]",
      "text/latex": [
       "$$\\left[\\begin{matrix}1 & \\varrho^{2}\\\\1 & \\varrho^{2}\\\\1 & \\varrho^{2}\\\\1 & \\varrho^{2}\\\\1 & \\varrho^{2}\\\\1 & \\varrho^{2}\\\\1 & \\varrho^{2}\\\\1 & \\varrho^{2}\\end{matrix}\\right]$$"
      ],
      "text/plain": [
       "⎡         2⎤\n",
       "⎢1  varrho ⎥\n",
       "⎢          ⎥\n",
       "⎢         2⎥\n",
       "⎢1  varrho ⎥\n",
       "⎢          ⎥\n",
       "⎢         2⎥\n",
       "⎢1  varrho ⎥\n",
       "⎢          ⎥\n",
       "⎢         2⎥\n",
       "⎢1  varrho ⎥\n",
       "⎢          ⎥\n",
       "⎢         2⎥\n",
       "⎢1  varrho ⎥\n",
       "⎢          ⎥\n",
       "⎢         2⎥\n",
       "⎢1  varrho ⎥\n",
       "⎢          ⎥\n",
       "⎢         2⎥\n",
       "⎢1  varrho ⎥\n",
       "⎢          ⎥\n",
       "⎢         2⎥\n",
       "⎣1  varrho ⎦"
      ]
     },
     "execution_count": 61,
     "metadata": {},
     "output_type": "execute_result"
    }
   ],
   "source": [
    "m2"
   ]
  },
  {
   "cell_type": "markdown",
   "metadata": {},
   "source": [
    "### (d)"
   ]
  },
  {
   "cell_type": "code",
   "execution_count": 58,
   "metadata": {},
   "outputs": [
    {
     "data": {
      "image/png": "[encoded data removed]",
      "text/latex": [
       "$$\\left[\\begin{matrix}1 & \\varrho^{2}\\\\\\varrho & \\varrho^{3}\\\\\\varrho^{2} & 1\\\\\\varrho^{3} & \\varrho\\\\\\sigma & \\varrho^{2} \\sigma\\\\\\varrho \\sigma & \\varrho^{3} \\sigma\\\\\\varrho^{2} \\sigma & \\sigma\\\\\\varrho^{3} \\sigma & \\varrho \\sigma\\end{matrix}\\right]$$"
      ],
      "text/plain": [
       "⎡                  2 ⎤\n",
       "⎢    1       varrho  ⎥\n",
       "⎢                    ⎥\n",
       "⎢                  3 ⎥\n",
       "⎢ varrho     varrho  ⎥\n",
       "⎢                    ⎥\n",
       "⎢       2            ⎥\n",
       "⎢ varrho        1    ⎥\n",
       "⎢                    ⎥\n",
       "⎢       3            ⎥\n",
       "⎢ varrho     varrho  ⎥\n",
       "⎢                    ⎥\n",
       "⎢                 2  ⎥\n",
       "⎢    σ      varrho ⋅σ⎥\n",
       "⎢                    ⎥\n",
       "⎢                 3  ⎥\n",
       "⎢varrho⋅σ   varrho ⋅σ⎥\n",
       "⎢                    ⎥\n",
       "⎢      2             ⎥\n",
       "⎢varrho ⋅σ      σ    ⎥\n",
       "⎢                    ⎥\n",
       "⎢      3             ⎥\n",
       "⎣varrho ⋅σ  varrho⋅σ ⎦"
      ]
     },
     "execution_count": 58,
     "metadata": {},
     "output_type": "execute_result"
    }
   ],
   "source": [
    "Matrix(table[[0, 2], :]).T"
   ]
  },
  {
   "cell_type": "code",
   "execution_count": null,
   "metadata": {},
   "outputs": [],
   "source": []
  }
 ],
 "metadata": {
  "kernelspec": {
   "display_name": "Python [default]",
   "language": "python",
   "name": "python3"
  },
  "language_info": {
   "codemirror_mode": {
    "name": "ipython",
    "version": 3
   },
   "file_extension": ".py",
   "mimetype": "text/x-python",
   "name": "python",
   "nbconvert_exporter": "python",
   "pygments_lexer": "ipython3",
   "version": "3.6.6"
  }
 },
 "nbformat": 4,
 "nbformat_minor": 2
}
